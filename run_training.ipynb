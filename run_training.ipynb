{
 "cells": [
  {
   "cell_type": "code",
   "execution_count": 2,
   "metadata": {},
   "outputs": [
    {
     "name": "stdout",
     "output_type": "stream",
     "text": [
      "^C\n",
      "Traceback (most recent call last):\n",
      "  File \"/home/fwe21/quant_diffusion/ternary-diffusion/train.py\", line 10, in <module>\n",
      "    from torchvision.transforms import (\n",
      "  File \"/home/fwe21/.local/lib/python3.11/site-packages/torchvision/__init__.py\", line 6, in <module>\n",
      "    from torchvision import _meta_registrations, datasets, io, models, ops, transforms, utils\n",
      "  File \"/home/fwe21/.local/lib/python3.11/site-packages/torchvision/datasets/__init__.py\", line 1, in <module>\n",
      "    from ._optical_flow import FlyingChairs, FlyingThings3D, HD1K, KittiFlow, Sintel\n",
      "  File \"/home/fwe21/.local/lib/python3.11/site-packages/torchvision/datasets/_optical_flow.py\", line 13, in <module>\n",
      "    from .utils import _read_pfm, verify_str_arg\n",
      "  File \"/home/fwe21/.local/lib/python3.11/site-packages/torchvision/datasets/utils.py\", line 24, in <module>\n",
      "    from torch.utils.model_zoo import tqdm\n",
      "  File \"<frozen importlib._bootstrap>\", line 1176, in _find_and_load\n",
      "  File \"<frozen importlib._bootstrap>\", line 1147, in _find_and_load_unlocked\n",
      "  File \"<frozen importlib._bootstrap>\", line 690, in _load_unlocked\n",
      "  File \"<frozen importlib._bootstrap_external>\", line 936, in exec_module\n",
      "  File \"<frozen importlib._bootstrap_external>\", line 1032, in get_code\n",
      "  File \"<frozen importlib._bootstrap_external>\", line 1130, in get_data\n",
      "KeyboardInterrupt\n"
     ]
    }
   ],
   "source": [
    "!python train.py --dataset_name=huggan/flowers-102-categories --eval_batch_size=5 --train_batch_size=4 --num_epochs=100 --learning_rate=2e-5 --pretrained_model_path trained_models/ddpm-flowers.pth --quantize"
   ]
  },
  {
   "cell_type": "code",
   "execution_count": null,
   "metadata": {},
   "outputs": [],
   "source": []
  }
 ],
 "metadata": {
  "kernelspec": {
   "display_name": "base",
   "language": "python",
   "name": "python3"
  },
  "language_info": {
   "codemirror_mode": {
    "name": "ipython",
    "version": 3
   },
   "file_extension": ".py",
   "mimetype": "text/x-python",
   "name": "python",
   "nbconvert_exporter": "python",
   "pygments_lexer": "ipython3",
   "version": "3.11.5"
  }
 },
 "nbformat": 4,
 "nbformat_minor": 2
}
